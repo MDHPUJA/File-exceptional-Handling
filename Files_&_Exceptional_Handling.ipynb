{
  "nbformat": 4,
  "nbformat_minor": 0,
  "metadata": {
    "colab": {
      "provenance": [],
      "authorship_tag": "ABX9TyP7qDgRBHOyaWsJ+PMFchZe",
      "include_colab_link": true
    },
    "kernelspec": {
      "name": "python3",
      "display_name": "Python 3"
    },
    "language_info": {
      "name": "python"
    }
  },
  "cells": [
    {
      "cell_type": "markdown",
      "metadata": {
        "id": "view-in-github",
        "colab_type": "text"
      },
      "source": [
        "<a href=\"https://colab.research.google.com/github/MDHPUJA/File-exceptional-Handling/blob/main/Files_%26_Exceptional_Handling.ipynb\" target=\"_parent\"><img src=\"https://colab.research.google.com/assets/colab-badge.svg\" alt=\"Open In Colab\"/></a>"
      ]
    },
    {
      "cell_type": "code",
      "execution_count": null,
      "metadata": {
        "colab": {
          "base_uri": "https://localhost:8080/",
          "height": 123
        },
        "id": "pp_qWbV5yYlc",
        "outputId": "7f19baf7-6117-4e22-b7fd-f8fa694cbcde"
      },
      "outputs": [
        {
          "output_type": "execute_result",
          "data": {
            "text/plain": [
              "\"\\nMultithreading and multiprocessing are both techniques used to achieve parallelism, but they are suited to different types of tasks.\\n Understanding the strengths and limitations of each can help in choosing the right approach for a given scenario.\\n\\nMultithreading\\nMultithreading refers to using multiple threads within a single process to execute tasks concurrently. Since threads share the same \\nmemory space, this approach is typically more lightweight in terms of memory and overhead.\\n\\nWhen Multithreading is Preferable:\\nI/O-Bound Tasks:\\n\\nExample: Applications that perform a lot of I/O operations, such as reading from files, network requests, or database queries.\\nWhy Multithreading? I/O-bound tasks often involve waiting for external resources (like disk or network). Threads can remain idle\\nwhile waiting for data and switch context without significant overhead. During this time, other threads can continue executing.\\nShared Memory:\\n\\nExample: Applications that require threads to share data or maintain a common state (e.g., updating a shared cache).\\nWhy Multithreading? Threads in the same process can easily share memory without requiring inter-process communication (IPC), making\\n it faster and simpler to implement.\\nLow CPU Usage:\\n\\nExample: GUIs, web servers, or network services where the task is primarily managing multiple connections or users.\\nWhy Multithreading? Since each thread shares the same memory and context, context switching between threads is relatively cheap. \\nThis reduces overhead and is ideal when CPU is not the primary bottleneck.\\nConcurrency with Low Memory Overhead:\\n\\nExample: Real-time applications or embedded systems where memory is limited.\\nWhy Multithreading? Threads use less memory compared to processes because they share the same memory space. For memory-constrained \\napplications, multithreading can be more efficient.\\nLimitations of Multithreading:\\nGlobal Interpreter Lock (GIL) in Python: Python's GIL limits the execution of multiple threads to one at a time in CPU-bound tasks, \\nreducing the benefits of threading in such scenarios.\\nThread safety: Access to shared resources in threads requires synchronization, which can lead to bugs like race conditions or deadlocks.\\nMultiprocessing\\nMultiprocessing involves using multiple processes, where each process runs independently with its own memory space. This method avoids some \\nof the issues that arise with multithreading, such as the GIL in Python.\\n\\nWhen Multiprocessing is Preferable:\\nCPU-Bound Tasks:\\n\\nExample: Data processing, machine learning model training, image/video processing, or complex mathematical calculations.\\nWhy Multiprocessing? CPU-bound tasks fully utilize the processor. Each process gets its own CPU core (in systems with multiple cores), leading \\nto true parallel execution. Unlike multithreading, the GIL does not restrict CPU usage in multiprocessing.\\nIndependent Tasks:\\n\\nExample: Applications where tasks are largely independent and do not need to share state (e.g., rendering frames of an animation).\\nWhy Multiprocessing? Processes have separate memory spaces, so communication between them is limited but avoids the complexity of managing shared \\nmemory. Each task can run independently without worrying about the effects on other processes.\\nTask Isolation and Fault Tolerance:\\n\\nExample: Server or service applications that handle multiple client requests.\\nWhy Multiprocessing? If one process crashes, it does not affect others, ensuring greater reliability. Each process operates in isolation, providing \\nbetter fault tolerance and more predictable behavior.\\nAvoiding GIL in Python:\\n\\nExample: CPU-intensive tasks in Python, such as numerical computations or cryptographic algorithms.\\nWhy Multiprocessing? The GIL in Python limits the effectiveness of threading for CPU-bound tasks. By using multiprocessing, each process runs in its \\nown Python interpreter, bypassing the GIL and making it suitable for parallel processing.\\nLimitations of Multiprocessing:\\nHigh Memory Overhead: Since each process has its own memory space, it consumes more memory compared to threads. If the tasks require frequent sharing \\nof large datasets, multiprocessing can be inefficient due to the overhead of inter-process communication.\\nInter-Process Communication (IPC): Communicating between processes can be more complex and slower than shared-memory threads, especially when large amounts \\nof data need to be passed between processes.\\nHigher Setup Time: Creating processes is generally slower and more resource-intensive than creating threads.\""
            ],
            "application/vnd.google.colaboratory.intrinsic+json": {
              "type": "string"
            }
          },
          "metadata": {},
          "execution_count": 1
        }
      ],
      "source": [
        "#1.Discuss the scenarios where multithreading is preferable to multiprocessing and scenarios where multiprocessing is a better choice\n",
        "\n",
        "'''\n",
        "Multithreading and multiprocessing are both techniques used to achieve parallelism, but they are suited to different types of tasks.\n",
        "Here are some scenarios where multithreading is preferred over multiprocessing:\n",
        "\n",
        "Multithreading\n",
        "Multithreading refers to using multiple threads within a single process to execute tasks concurrently. Since threads share the same\n",
        "memory space, this approach is typically more lightweight in terms of memory and overhead.\n",
        "\n",
        "When Multithreading is Preferable:\n",
        "I/O-Bound Tasks:\n",
        "\n",
        "Example: Applications that perform a lot of I/O operations, such as reading from files, network requests, or database queries.\n",
        "Why Multithreading? I/O-bound tasks often involve waiting for external resources (like disk or network). Threads can remain idle\n",
        "while waiting for data and switch context without significant overhead. During this time, other threads can continue executing.\n",
        "Shared Memory:\n",
        "\n",
        "Example: Applications that require threads to share data or maintain a common state (e.g., updating a shared cache).\n",
        "Why Multithreading? Threads in the same process can easily share memory without requiring inter-process communication (IPC), making\n",
        " it faster and simpler to implement.\n",
        "Low CPU Usage:\n",
        "\n",
        "Example: GUIs, web servers, or network services where the task is primarily managing multiple connections or users.\n",
        "Why Multithreading? Since each thread shares the same memory and context, context switching between threads is relatively cheap.\n",
        "This reduces overhead and is ideal when CPU is not the primary bottleneck.\n",
        "Concurrency with Low Memory Overhead:\n",
        "\n",
        "Example: Real-time applications or embedded systems where memory is limited.\n",
        "Why Multithreading? Threads use less memory compared to processes because they share the same memory space. For memory-constrained\n",
        "applications, multithreading can be more efficient.\n",
        "Limitations of Multithreading:\n",
        "Global Interpreter Lock (GIL) in Python: Python's GIL limits the execution of multiple threads to one at a time in CPU-bound tasks,\n",
        "reducing the benefits of threading in such scenarios.\n",
        "Thread safety: Access to shared resources in threads requires synchronization, which can lead to bugs like race conditions or deadlocks.\n",
        "Multiprocessing\n",
        "Multiprocessing involves using multiple processes, where each process runs independently with its own memory space. This method avoids some\n",
        "of the issues that arise with multithreading, such as the GIL in Python.\n",
        "\n",
        "When Multiprocessing is Preferable:\n",
        "CPU-Bound Tasks:\n",
        "\n",
        "Example: Data processing, machine learning model training, image/video processing, or complex mathematical calculations.\n",
        "Why Multiprocessing? CPU-bound tasks fully utilize the processor. Each process gets its own CPU core (in systems with multiple cores), leading\n",
        "to true parallel execution. Unlike multithreading, the GIL does not restrict CPU usage in multiprocessing.\n",
        "Independent Tasks:\n",
        "\n",
        "Example: Applications where tasks are largely independent and do not need to share state (e.g., rendering frames of an animation).\n",
        "Why Multiprocessing? Processes have separate memory spaces, so communication between them is limited but avoids the complexity of managing shared\n",
        "memory. Each task can run independently without worrying about the effects on other processes.\n",
        "Task Isolation and Fault Tolerance:\n",
        "\n",
        "Example: Server or service applications that handle multiple client requests.\n",
        "Why Multiprocessing? If one process crashes, it does not affect others, ensuring greater reliability. Each process operates in isolation, providing\n",
        "better fault tolerance and more predictable behavior.\n",
        "Avoiding GIL in Python:\n",
        "\n",
        "Example: CPU-intensive tasks in Python, such as numerical computations or cryptographic algorithms.\n",
        "Why Multiprocessing? The GIL in Python limits the effectiveness of threading for CPU-bound tasks. By using multiprocessing, each process runs in its\n",
        "own Python interpreter, bypassing the GIL and making it suitable for parallel processing.\n",
        "Limitations of Multiprocessing:\n",
        "High Memory Overhead: Since each process has its own memory space, it consumes more memory compared to threads. If the tasks require frequent sharing\n",
        "of large datasets, multiprocessing can be inefficient due to the overhead of inter-process communication.\n",
        "Inter-Process Communication (IPC): Communicating between processes can be more complex and slower than shared-memory threads, especially when large amounts\n",
        "of data need to be passed between processes.\n",
        "Higher Setup Time: Creating processes is generally slower and more resource-intensive than creating threads.'''"
      ]
    },
    {
      "cell_type": "code",
      "source": [
        "#2. Describe what a process pool is and how it helps in managing multiple processes efficiently.\n",
        "\n",
        "'''\n",
        "A process pool is a mechanism used in parallel programming to manage a collection of pre-instantiated processes, which can be reused\n",
        "to execute tasks concurrently. Rather than creating and destroying processes on demand for each new task (which can be costly in terms\n",
        "of time and resources), a process pool allows for efficient reuse of a fixed number of processes.\n",
        "\n",
        "Key Characteristics of a Process Pool:\n",
        "Pre-Allocation of Processes: A fixed number of processes are created at the start. These processes remain available throughout the lifetime\n",
        "of the program to handle tasks.\n",
        "Task Queueing: When a task is submitted to the pool, it is added to a queue. Each process in the pool picks up tasks from the queue and executes\n",
        "them, freeing itself up for the next task once it's done.\n",
        "Efficient Resource Management: By reusing processes, the overhead of creating and destroying processes for each task is avoided. This reduces the\n",
        "time spent on process initialization and improves system performance.\n",
        "Concurrency Control: The size of the pool controls the level of concurrency. For example, if a pool has 4 processes, only 4 tasks can run in\n",
        "parallel, preventing system overload by limiting the number of active processes.\n",
        "Advantages of a Process Pool:\n",
        "Resource Efficiency: Process pools reduce the overhead associated with creating and destroying processes repeatedly. This is especially important\n",
        "when there are many short tasks to execute, as frequent process creation can be slow and resource-intensive.\n",
        "\n",
        "Task Management: A process pool abstracts the complexity of managing individual processes. Developers can simply submit tasks to the pool, and it\n",
        "manages which process will execute each task.\n",
        "\n",
        "Concurrency Control: By limiting the number of active processes, a process pool prevents excessive resource consumption (e.g., CPU and memory),\n",
        "which can occur when too many processes are created.\n",
        "\n",
        "Parallel Execution: Tasks are executed concurrently by multiple processes, which can take advantage of multiple CPU cores in the system for true\n",
        "parallelism. This is particularly useful for CPU-bound tasks.\n",
        "'''\n",
        "#Example of a Process Pool (Python):\n",
        "'''\n",
        "In Python, the multiprocessing module provides a Pool class that simplifies working with process pools.\n",
        "'''\n",
        "import multiprocessing as mp\n",
        "\n",
        "# Define a function to run in parallel\n",
        "def square(x):\n",
        "    return x * x\n",
        "\n",
        "# Create a process pool with 4 workers\n",
        "with mp.Pool(4) as pool:\n",
        "    # Map the function 'square' to a list of values\n",
        "    results = pool.map(square, [1, 2, 3, 4, 5])\n",
        "\n",
        "print(results)  # Output: [1, 4, 9, 16, 25]\n",
        "\n",
        "'''\n",
        "How a Process Pool Helps in Managing Multiple Processes Efficiently:\n",
        "Parallel Execution with Simple Syntax: The process pool makes it easy to distribute tasks across multiple CPU cores, enabling parallel\n",
        "execution without manually creating and managing processes.\n",
        "\n",
        "Task Scheduling: The pool automatically schedules tasks and assigns them to available processes, ensuring an efficient workload distribution.\n",
        "Tasks are picked up as processes become available, preventing idle resources.\n",
        "\n",
        "Load Balancing: If one task takes longer to execute than others, the process pool ensures that the next available process continues working on\n",
        "the next task, preventing bottlenecks.\n",
        "\n",
        "Reusability of Processes: Instead of repeatedly creating new processes, the pool reuses existing processes, saving time and reducing the overhead\n",
        "associated with process management.'''\n"
      ],
      "metadata": {
        "id": "jtDhmJGfzLtX",
        "colab": {
          "base_uri": "https://localhost:8080/",
          "height": 122
        },
        "outputId": "07e9b53c-6684-4221-d59c-ae5b2d405cb7"
      },
      "execution_count": null,
      "outputs": [
        {
          "output_type": "stream",
          "name": "stdout",
          "text": [
            "[1, 4, 9, 16, 25]\n"
          ]
        },
        {
          "output_type": "execute_result",
          "data": {
            "text/plain": [
              "'\\nHow a Process Pool Helps in Managing Multiple Processes Efficiently:\\nParallel Execution with Simple Syntax: The process pool makes it easy to distribute tasks across multiple CPU cores, enabling parallel \\nexecution without manually creating and managing processes.\\n\\nTask Scheduling: The pool automatically schedules tasks and assigns them to available processes, ensuring an efficient workload distribution. \\nTasks are picked up as processes become available, preventing idle resources.\\n\\nLoad Balancing: If one task takes longer to execute than others, the process pool ensures that the next available process continues working on \\nthe next task, preventing bottlenecks.\\n\\nReusability of Processes: Instead of repeatedly creating new processes, the pool reuses existing processes, saving time and reducing the overhead \\nassociated with process management.'"
            ],
            "application/vnd.google.colaboratory.intrinsic+json": {
              "type": "string"
            }
          },
          "metadata": {},
          "execution_count": 2
        }
      ]
    },
    {
      "cell_type": "code",
      "source": [
        "#3. Explain what multiprocessing is and why it is used in Python programs.\n",
        "\n",
        "'''\n",
        "Multiprocessing is a technique in computing where multiple processes are run simultaneously, allowing tasks to be executed\n",
        "in parallel. In Python, multiprocessing refers to the ability to run different parts of a program concurrently on multiple CPU cores, thereby achieving true parallelism.\n",
        "\n",
        "Why Multiprocessing is Used in Python Programs:\n",
        "Bypassing the Global Interpreter Lock (GIL):\n",
        "\n",
        "Python’s default implementation, CPython, has a Global Interpreter Lock (GIL), which restricts the execution of multiple threads at once,\n",
        "even on multi-core systems. This can limit the performance gains from using threads for CPU-bound tasks.\n",
        "Multiprocessing, however, uses separate memory spaces for each process and runs them independently of the GIL, enabling Python to utilize\n",
        "multiple CPU cores and achieve parallel execution.\n",
        "Parallelism for CPU-Bound Tasks:\n",
        "\n",
        "CPU-bound tasks are those that require intensive computation, such as numerical calculations, data analysis, or image processing.\n",
        "Multiprocessing allows these tasks to be divided across multiple CPU cores, significantly reducing the execution time by distributing the workload in parallel.\n",
        "Improved Performance on Multi-Core Systems:\n",
        "\n",
        "Modern processors have multiple cores, which can execute different processes in parallel. Multiprocessing in Python takes advantage of these cores\n",
        "by allowing different processes to run simultaneously, maximizing CPU usage and improving performance.\n",
        "Concurrency for Independent Tasks:\n",
        "\n",
        "In some scenarios, programs need to execute independent tasks that do not depend on each other, such as web scraping, file processing, or database\n",
        "queries. Multiprocessing allows these tasks to run concurrently, speeding up overall execution time.\n",
        "Isolation Between Processes:\n",
        "\n",
        "Each process in Python’s multiprocessing model runs in its own memory space, meaning they do not share memory like threads do. This isolation provides\n",
        "safety from side effects such as data corruption or race conditions that can occur with shared memory, making it more stable for concurrent execution.\n",
        "How Multiprocessing Works in Python:\n",
        "In Python, the multiprocessing module provides an interface to create and manage multiple processes.\n",
        "\n",
        "Process Creation: Processes are created using the Process class, which can be instantiated with a target function and arguments.\n",
        "Task Distribution: Tasks can be distributed across multiple processes using techniques like process pools or worker processes.\n",
        "Inter-Process Communication (IPC): Python provides mechanisms like pipes, queues, and shared memory to enable communication between processes.\n",
        "'''\n",
        "#Example of Using Multiprocessing in Python:\n",
        "\n",
        "import multiprocessing\n",
        "\n",
        "def square(x):\n",
        "    return x * x\n",
        "\n",
        "if __name__ == '__main__':\n",
        "    # Create a pool of 4 worker processes\n",
        "    with multiprocessing.Pool(4) as pool:\n",
        "        # Apply the 'square' function to a list of values\n",
        "        results = pool.map(square, [1, 2, 3, 4, 5])\n",
        "\n",
        "    print(results)  # Output: [1, 4, 9, 16, 25]\n",
        "\n",
        "'''\n",
        "Key Concepts in Multiprocessing:\n",
        "Processes: Separate instances of the Python interpreter that run independently. Each process has its own memory space.\n",
        "Process Pool: A pool of worker processes that are pre-instantiated and reused to execute tasks concurrently. It helps manage large numbers of tasks efficiently.\n",
        "Inter-Process Communication (IPC): Techniques for processes to communicate or share data, such as through pipes, queues, or shared memory.\n",
        "Synchronization: Mechanisms like locks, semaphores, and events are used to control access to shared resources between processes and avoid race conditions.\n",
        "Use Cases for Multiprocessing in Python:\n",
        "Parallelizing CPU-Intensive Tasks: Tasks like matrix multiplication, image processing, video encoding, and cryptography can benefit from multiprocessing because\n",
        "they involve heavy computation that can be divided across cores.\n",
        "Data Processing Pipelines: In large-scale data processing tasks, different parts of a pipeline (e.g., data loading, cleaning, analysis) can be handled by separate processes.\n",
        "Web Scraping and I/O Bound Tasks: While I/O-bound tasks are generally suited for multithreading, using multiple processes to handle separate chunks of data in parallel\n",
        "can still be beneficial in certain cases.\n",
        "'''\n"
      ],
      "metadata": {
        "colab": {
          "base_uri": "https://localhost:8080/",
          "height": 140
        },
        "id": "W6U30IPg0xHg",
        "outputId": "84cfe3f8-b06e-4c4b-ad1b-6e8d74348a51"
      },
      "execution_count": null,
      "outputs": [
        {
          "output_type": "stream",
          "name": "stdout",
          "text": [
            "[1, 4, 9, 16, 25]\n"
          ]
        },
        {
          "output_type": "execute_result",
          "data": {
            "text/plain": [
              "'\\nKey Concepts in Multiprocessing:\\nProcesses: Separate instances of the Python interpreter that run independently. Each process has its own memory space.\\nProcess Pool: A pool of worker processes that are pre-instantiated and reused to execute tasks concurrently. It helps manage large numbers of tasks efficiently.\\nInter-Process Communication (IPC): Techniques for processes to communicate or share data, such as through pipes, queues, or shared memory.\\nSynchronization: Mechanisms like locks, semaphores, and events are used to control access to shared resources between processes and avoid race conditions.\\nUse Cases for Multiprocessing in Python:\\nParallelizing CPU-Intensive Tasks: Tasks like matrix multiplication, image processing, video encoding, and cryptography can benefit from multiprocessing because \\nthey involve heavy computation that can be divided across cores.\\nData Processing Pipelines: In large-scale data processing tasks, different parts of a pipeline (e.g., data loading, cleaning, analysis) can be handled by separate processes.\\nWeb Scraping and I/O Bound Tasks: While I/O-bound tasks are generally suited for multithreading, using multiple processes to handle separate chunks of data in parallel \\ncan still be beneficial in certain cases.\\n'"
            ],
            "application/vnd.google.colaboratory.intrinsic+json": {
              "type": "string"
            }
          },
          "metadata": {},
          "execution_count": 3
        }
      ]
    },
    {
      "cell_type": "code",
      "source": [
        "# Write a Python program using multithreading where one thread adds numbers to a list, and another thread removes numbers from the list. Implement a mechanism to avoid race conditions using threading.Lock.\n",
        "'''\n",
        "Here’s a Python program that demonstrates the use of multithreading, where one thread adds numbers to a list, and another thread removes numbers from the list.\n",
        "A threading.Lock is used to avoid race conditions, ensuring that both threads don’t try to access or modify the list at the same time.\n",
        "'''\n",
        "\n",
        "import threading\n",
        "import time\n",
        "\n",
        "# Shared list\n",
        "shared_list = []\n",
        "\n",
        "# Lock to avoid race conditions\n",
        "list_lock = threading.Lock()\n",
        "\n",
        "# Function for adding numbers to the list\n",
        "def add_to_list():\n",
        "    for i in range(10):\n",
        "        time.sleep(0.1)  # Simulate a delay for demonstration purposes\n",
        "        with list_lock:  # Acquire the lock before modifying the list\n",
        "            shared_list.append(i)\n",
        "            print(f\"Added {i} to the list. Current list: {shared_list}\")\n",
        "\n",
        "# Function for removing numbers from the list\n",
        "def remove_from_list():\n",
        "    for i in range(10):\n",
        "        time.sleep(0.15)  # Simulate a delay for demonstration purposes\n",
        "        with list_lock:  # Acquire the lock before modifying the list\n",
        "            if shared_list:\n",
        "                removed_item = shared_list.pop(0)\n",
        "                print(f\"Removed {removed_item} from the list. Current list: {shared_list}\")\n",
        "\n",
        "# Create threads for adding and removing numbers\n",
        "add_thread = threading.Thread(target=add_to_list)\n",
        "remove_thread = threading.Thread(target=remove_from_list)\n",
        "\n",
        "# Start the threads\n",
        "add_thread.start()\n",
        "remove_thread.start()\n",
        "\n",
        "# Wait for both threads to finish\n",
        "add_thread.join()\n",
        "remove_thread.join()\n",
        "\n",
        "print(\"Final list:\", shared_list)"
      ],
      "metadata": {
        "colab": {
          "base_uri": "https://localhost:8080/"
        },
        "id": "fPMXuKRH1mI-",
        "outputId": "bcacf9b5-63a3-4d14-eea0-1000ed03e29b"
      },
      "execution_count": null,
      "outputs": [
        {
          "output_type": "stream",
          "name": "stdout",
          "text": [
            "Added 0 to the list. Current list: [0]\n",
            "Removed 0 from the list. Current list: []\n",
            "Added 1 to the list. Current list: [1]\n",
            "Removed 1 from the list. Current list: []\n",
            "Added 2 to the list. Current list: [2]\n",
            "Added 3 to the list. Current list: [2, 3]\n",
            "Removed 2 from the list. Current list: [3]\n",
            "Added 4 to the list. Current list: [3, 4]\n",
            "Removed 3 from the list. Current list: [4]\n",
            "Added 5 to the list. Current list: [4, 5]\n",
            "Added 6 to the list. Current list: [4, 5, 6]\n",
            "Removed 4 from the list. Current list: [5, 6]\n",
            "Added 7 to the list. Current list: [5, 6, 7]\n",
            "Removed 5 from the list. Current list: [6, 7]\n",
            "Added 8 to the list. Current list: [6, 7, 8]\n",
            "Added 9 to the list. Current list: [6, 7, 8, 9]\n",
            "Removed 6 from the list. Current list: [7, 8, 9]\n",
            "Removed 7 from the list. Current list: [8, 9]\n",
            "Removed 8 from the list. Current list: [9]\n",
            "Removed 9 from the list. Current list: []\n",
            "Final list: []\n"
          ]
        }
      ]
    },
    {
      "cell_type": "code",
      "source": [
        "#Discuss why it’s crucial to handle exceptions in concurrent programs and the techniques available for doing so.\n",
        "'''\n",
        "Handling exceptions in concurrent programs is crucial because concurrency introduces complexities that can lead to unpredictable behavior, race conditions,\n",
        "deadlocks, or crashes if errors are not managed properly. In concurrent environments (whether using threads or processes), exceptions might occur in one part\n",
        "of the program that could affect other parts. Without proper exception handling, these issues can lead to:\n",
        "\n",
        "Program Crashes: Uncaught exceptions can terminate threads or processes prematurely, potentially leaving shared resources in an inconsistent state or resulting\n",
        "in program-wide failure.\n",
        "Deadlocks: If a thread or process holding a lock crashes without releasing it, other threads/processes may wait indefinitely, leading to deadlocks.\n",
        "Data Corruption: Unhandled exceptions during data manipulation can leave shared data in an incomplete or inconsistent state.\n",
        "Resource Leaks: Resources such as file handles, network connections, or shared memory segments may not be properly released if exceptions are not handled correctly.\n",
        "Why Handling Exceptions in Concurrent Programs is Challenging:\n",
        "Concurrency Complexity: With multiple threads or processes running simultaneously, identifying where an exception occurred and its impact on other threads/processes\n",
        "is more difficult.\n",
        "Race Conditions: Exceptions might happen at unpredictable times, making it harder to ensure the state of shared resources is consistent.\n",
        "Visibility: Threads and processes may silently fail without proper exception handling, making it hard to diagnose the cause of failures in concurrent systems.\n",
        "Techniques for Handling Exceptions in Concurrent Programs:\n",
        "1.Using Try-Except Blocks:\n",
        "The most straightforward way to handle exceptions in Python is by using try-except blocks. In concurrent programs, it's essential to wrap critical sections of code in\n",
        "these blocks to catch and manage exceptions.\n",
        "'''\n",
        "#Example in Multithreading:\n",
        "\n",
        "import threading\n",
        "\n",
        "def worker():\n",
        "    try:\n",
        "        # Code that may raise an exception\n",
        "        result = 10 / 0  # Example of an exception\n",
        "    except Exception as e:\n",
        "        print(f\"Exception caught in thread: {e}\")\n",
        "\n",
        "t = threading.Thread(target=worker)\n",
        "t.start()\n",
        "t.join()\n",
        "'''\n",
        "2. Using Locks to Ensure Resource Safety:\n",
        "When using shared resources in concurrent environments, race conditions might occur if one thread or process encounters an exception while\n",
        "holding a lock. To prevent such issues, acquire locks in try-except-finally blocks to ensure they are released properly even if an exception occurs.\n",
        "'''\n",
        "\n",
        "import threading\n",
        "\n",
        "lock = threading.Lock()\n",
        "\n",
        "def safe_worker():\n",
        "    try:\n",
        "        lock.acquire()\n",
        "        # Critical section of code\n",
        "        result = 10 / 0  # Exception occurs\n",
        "    except Exception as e:\n",
        "        print(f\"Error: {e}\")\n",
        "    finally:\n",
        "        lock.release()  # Ensure the lock is always released\n",
        "\n",
        "t = threading.Thread(target=safe_worker)\n",
        "t.start()\n",
        "t.join()\n",
        "'''\n",
        "3. Handling Exceptions in Thread Pools or Process Pools:\n",
        "When using thread pools or process pools, exceptions occurring in worker threads/processes might not propagate to the main thread or process.\n",
        "These can be captured by handling the result or future objects returned by the pool.\n",
        "\n",
        "Using concurrent.futures (thread or process pools):\n",
        "\n",
        "In this model, you can handle exceptions using the future object, which allows you to access the result or catch any exceptions raised during execution.\n",
        "'''\n",
        "\n",
        "from concurrent.futures import ThreadPoolExecutor\n",
        "\n",
        "def divide(x, y):\n",
        "    return x / y\n",
        "\n",
        "with ThreadPoolExecutor(max_workers=2) as executor:\n",
        "    future = executor.submit(divide, 10, 0)  # This will raise an exception\n",
        "    try:\n",
        "        result = future.result()  # This will raise the exception\n",
        "    except Exception as e:\n",
        "        print(f\"Exception caught: {e}\")\n",
        "'''\n",
        "4. Using Queues for Thread-Safe Exception Propagation:\n",
        "In multithreading, queue.Queue can be used to safely pass exceptions between threads and handle them in the main thread.\n",
        "This technique is useful when the main thread needs to be aware of errors in worker threads.\n",
        "'''\n",
        "\n",
        "import threading\n",
        "import queue\n",
        "\n",
        "def worker(q):\n",
        "    try:\n",
        "        raise ValueError(\"An error occurred in worker\")\n",
        "    except Exception as e:\n",
        "        q.put(e)  # Pass exception to main thread via queue\n",
        "\n",
        "q = queue.Queue()\n",
        "t = threading.Thread(target=worker, args=(q,))\n",
        "t.start()\n",
        "\n",
        "t.join()\n",
        "while not q.empty():\n",
        "    exception = q.get()\n",
        "    print(f\"Exception caught from thread: {exception}\")\n",
        "'''\n",
        "5. Custom Exception Handlers:\n",
        "In some cases, you may want to define a custom exception handler to centralize how exceptions are handled in a thread or process.\n",
        "This could involve logging the exception, restarting the thread/process, or other error-recovery strategies.\n",
        "'''\n",
        "import threading\n",
        "\n",
        "def custom_exception_handler(e):\n",
        "    print(f\"Handled exception: {e}\")\n",
        "\n",
        "def worker():\n",
        "    try:\n",
        "        raise RuntimeError(\"This is a test exception\")\n",
        "    except Exception as e:\n",
        "        custom_exception_handler(e)\n",
        "\n",
        "t = threading.Thread(target=worker)\n",
        "t.start()\n",
        "t.join()\n",
        "'''\n",
        "6. Graceful Shutdown on Exception:\n",
        "In long-running concurrent programs, exceptions can signal the need to gracefully shut down the program or release resources.\n",
        "You can manage graceful shutdowns by using signals, event flags, or manually cleaning up resources in the finally block.\n",
        "\n",
        "7. Exception Handling in multiprocessing:\n",
        "For multiprocessing, exceptions occurring in child processes are not propagated to the parent process automatically. However, you can manage exceptions by using multiprocessing.Queue, Pool.apply_async(), or Process.exitcode.\n",
        "'''\n",
        "#Using apply_async():\n",
        "\n",
        "from multiprocessing import Pool\n",
        "\n",
        "def raise_exception():\n",
        "    raise ValueError(\"Error in process\")\n",
        "\n",
        "with Pool(2) as pool:\n",
        "    result = pool.apply_async(raise_exception)\n",
        "    try:\n",
        "        result.get()  # This will re-raise the exception\n",
        "    except Exception as e:\n",
        "        print(f\"Exception caught from process: {e}\")"
      ],
      "metadata": {
        "colab": {
          "base_uri": "https://localhost:8080/"
        },
        "id": "q--VTXTp2s0m",
        "outputId": "b7d60154-63fc-4445-84ff-f793e3a1f498"
      },
      "execution_count": null,
      "outputs": [
        {
          "output_type": "stream",
          "name": "stdout",
          "text": [
            "Exception caught in thread: division by zero\n",
            "Error: division by zero\n",
            "Exception caught: division by zero\n",
            "Exception caught from thread: An error occurred in worker\n",
            "Handled exception: This is a test exception\n",
            "Exception caught from process: Error in process\n"
          ]
        }
      ]
    },
    {
      "cell_type": "code",
      "source": [
        "#Create a program that uses a thread pool to calculate the factorial of numbers from 1 to 10 concurrently.Use concurrent.futures.ThreadPoolExecutor to manage the threads.\n",
        "'''\n",
        "Here’s a Python program that uses concurrent.futures.ThreadPoolExecutor to calculate the factorial of numbers from 1 to 10 concurrently:\n",
        "'''\n",
        "\n",
        "from concurrent.futures import ThreadPoolExecutor\n",
        "import math\n",
        "\n",
        "# Function to calculate the factorial\n",
        "def factorial(n):\n",
        "    return math.factorial(n)\n",
        "\n",
        "# Main program\n",
        "if __name__ == \"__main__\":\n",
        "    numbers = list(range(1, 11))  # List of numbers from 1 to 10\n",
        "\n",
        "    # Using ThreadPoolExecutor to manage threads\n",
        "    with ThreadPoolExecutor() as executor:\n",
        "        # Submit the factorial tasks to the executor\n",
        "        results = executor.map(factorial, numbers)\n",
        "\n",
        "    # Print the results\n",
        "    for num, result in zip(numbers, results):\n",
        "        print(f\"Factorial of {num} is {result}\")"
      ],
      "metadata": {
        "colab": {
          "base_uri": "https://localhost:8080/"
        },
        "id": "AVFWRRBY4PfW",
        "outputId": "d4ee44c8-db17-41ed-8ed5-1ec240aa64f5"
      },
      "execution_count": null,
      "outputs": [
        {
          "output_type": "stream",
          "name": "stdout",
          "text": [
            "Factorial of 1 is 1\n",
            "Factorial of 2 is 2\n",
            "Factorial of 3 is 6\n",
            "Factorial of 4 is 24\n",
            "Factorial of 5 is 120\n",
            "Factorial of 6 is 720\n",
            "Factorial of 7 is 5040\n",
            "Factorial of 8 is 40320\n",
            "Factorial of 9 is 362880\n",
            "Factorial of 10 is 3628800\n"
          ]
        }
      ]
    },
    {
      "cell_type": "code",
      "source": [
        "# Create a Python program that uses multiprocessing.Pool to compute the square of numbers from 1 to 10 in parallel. Measure the time taken to perform this computation using a pool of different sizes (e.g., 2, 4, 8 processes).\n",
        "'''\n",
        "Here’s a Python program that uses multiprocessing.Pool to compute the square of numbers from 1 to 10 in parallel.\n",
        "It also measures the time taken to perform the computation with different pool sizes.\n",
        "'''\n",
        "import multiprocessing\n",
        "import time\n",
        "\n",
        "# Function to compute the square of a number\n",
        "def square(n):\n",
        "    return n * n\n",
        "\n",
        "# Function to measure computation time using different pool sizes\n",
        "def compute_squares_with_pool_size(pool_size):\n",
        "    numbers = list(range(1, 11))  # Numbers from 1 to 10\n",
        "\n",
        "    # Create a pool with the specified number of processes\n",
        "    with multiprocessing.Pool(processes=pool_size) as pool:\n",
        "        start_time = time.time()  # Start time\n",
        "        results = pool.map(square, numbers)  # Compute squares in parallel\n",
        "        end_time = time.time()  # End time\n",
        "\n",
        "    # Print the results and the time taken\n",
        "    print(f\"\\nPool Size: {pool_size}\")\n",
        "    print(f\"Squares: {results}\")\n",
        "    print(f\"Time taken: {end_time - start_time:.5f} seconds\")\n",
        "\n",
        "if __name__ == \"__main__\":\n",
        "    # Test with different pool sizes\n",
        "    for pool_size in [2, 4, 8]:\n",
        "        compute_squares_with_pool_size(pool_size)"
      ],
      "metadata": {
        "colab": {
          "base_uri": "https://localhost:8080/"
        },
        "id": "6pFwHWJL4ovO",
        "outputId": "d623eef3-b5de-4e7a-d38b-114355ce3706"
      },
      "execution_count": null,
      "outputs": [
        {
          "output_type": "stream",
          "name": "stdout",
          "text": [
            "\n",
            "Pool Size: 2\n",
            "Squares: [1, 4, 9, 16, 25, 36, 49, 64, 81, 100]\n",
            "Time taken: 0.00176 seconds\n",
            "\n",
            "Pool Size: 4\n",
            "Squares: [1, 4, 9, 16, 25, 36, 49, 64, 81, 100]\n",
            "Time taken: 0.00321 seconds\n",
            "\n",
            "Pool Size: 8\n",
            "Squares: [1, 4, 9, 16, 25, 36, 49, 64, 81, 100]\n",
            "Time taken: 0.00568 seconds\n"
          ]
        }
      ]
    },
    {
      "cell_type": "code",
      "source": [],
      "metadata": {
        "id": "18jWgBq65V-C"
      },
      "execution_count": null,
      "outputs": []
    }
  ]
}